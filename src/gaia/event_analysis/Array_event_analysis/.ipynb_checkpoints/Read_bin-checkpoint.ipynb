{
 "cells": [
  {
   "cell_type": "code",
   "execution_count": 44,
   "metadata": {},
   "outputs": [],
   "source": [
    "import numpy as np\n",
    "import dateutil.parser as dp\n",
    "import matplotlib.pyplot as plt\n",
    "plt.style.use(\"MC.mplstyle\")\n",
    "\n",
    "file_header_dtype = np.dtype([('file_cookie', 'S2'),\n",
    "                               ('file_version', 'S2'),\n",
    "                               ('file_size', 'i4'),\n",
    "                               ('num_waveforms', 'i4')])\n",
    "\n",
    "waveform_header_dtype = np.dtype([('header_size', 'i4'),\n",
    "                                ('waveform_type', 'i4'),\n",
    "                                ('num_waveform_buffers', 'i4'),\n",
    "                                ('num_points', 'i4'),\n",
    "                                ('count', 'i4'),\n",
    "                                ('x_display_range', 'f4'),\n",
    "                                ('x_display_origin', 'f8'),\n",
    "                                ('x_increment', 'f8'),\n",
    "                                ('x_origin', 'f8'),\n",
    "                                ('x_units', 'i4'),\n",
    "                                ('y_units', 'i4'),\n",
    "                                ('date_string', 'S16'),\n",
    "                                ('time_string', 'S16'),\n",
    "                                ('frame_string', 'S24'),\n",
    "                                ('waveform_string', 'S16'),\n",
    "                                ('time_tag', 'f8'),\n",
    "                                ('segment_index', 'u4')])\n",
    "\n",
    "buffer_header_dtype = np.dtype([('header_size', 'i4'),\n",
    "                                ('buffer_type', 'i2'),\n",
    "                                ('bytes_per_point', 'i2'),\n",
    "                                ('buffer_size', 'i4')])\n",
    "\n",
    "def read_agilent_binary(fname, use_segments=False, include_time_vector=False, include_datetime=True):\n",
    "    \"\"\"Reads all the channel data from an Agilent/Infinium Oscilloscope into a dict\n",
    "    indexed by scope channel number. Optionally computes the time vector, and adds that to\n",
    "    the output dict also.\"\"\"\n",
    "    with open(fname, 'rb') as f:\n",
    "        file_header = np.fromfile(f, dtype=file_header_dtype, count=1)\n",
    "\n",
    "        wf_dict = {}\n",
    "\n",
    "        #Agilent uses 1-indexing for their waveforms\n",
    "        for wfx in np.arange(file_header['num_waveforms'][0])+1:\n",
    "\n",
    "            #Read the waveform header\n",
    "            wf_header = np.fromfile(f, dtype=waveform_header_dtype, count=1)\n",
    "\n",
    "            #Grab important strings in a python 2/3 compatible way\n",
    "            channel_string = bytes(wf_header['waveform_string'][0]).decode('utf-8').replace(' ', '_')\n",
    "            date_string = bytes(wf_header['date_string'][0]).decode('utf-8')\n",
    "            time_string = bytes(wf_header['time_string'][0]).decode('utf-8')\n",
    "\n",
    "\n",
    "            #Start a new dictionary\n",
    "            wf_dict[channel_string] = {}\n",
    "\n",
    "            #Might need to allow for multiple segments, in which case y_data is a dict\n",
    "            if use_segments:\n",
    "                wf_dict[channel_string]['segment_data'] = []\n",
    "                segment_index = int(wf_header['segment_index'][0])\n",
    "                time_tag = wf_header['time_tag'][0]\n",
    "\n",
    "            #Fill with metadata\n",
    "            for key in wf_header.dtype.names:\n",
    "                if key not in ['header_size', 'waveform_type', 'num_waveform_buffers', 'segment_index', 'time_tag']:\n",
    "                    wf_dict[channel_string][key] = wf_header[key][0]\n",
    "\n",
    "            if include_datetime:\n",
    "                datetime = dp.parse(date_string + ' ' + time_string)\n",
    "                wf_dict[channel_string]['datetime'] = datetime\n",
    "\n",
    "            #Loop through all the data buffers for this waveform (usually just one)\n",
    "            for bfx in range(wf_header['num_waveform_buffers'][0]):\n",
    "                #Read the buffer header\n",
    "                bf_header = np.fromfile(f, dtype=buffer_header_dtype, count=1)\n",
    "\n",
    "                #Format the dtype for the array\n",
    "                bf_type = bf_header['buffer_type'][0]\n",
    "\n",
    "                if bf_type in [1,2,3]:\n",
    "                    #Float\n",
    "                    f_str = 'f4'\n",
    "                elif bf_type == 4:\n",
    "                    #Integer\n",
    "                    f_str = 'i4'\n",
    "                else:\n",
    "                    #Boolean or other\n",
    "                    f_str = 'u1'\n",
    "\n",
    "                ch_dtype = np.dtype([('data', f_str)])\n",
    "\n",
    "                num_points = int(bf_header['buffer_size'][0]/bf_header['bytes_per_point'][0])\n",
    "\n",
    "                #This hstacks buffers if there are more than one. Don't know if that is right or not...\n",
    "                #Maybe should be vstacking them instead? Never seen more than one anyhow.\n",
    "                if bfx == 0:\n",
    "                    ch_data = np.fromfile(f, dtype=ch_dtype, count=num_points)\n",
    "                else:\n",
    "                    ch_data = np.hstack[[ch_data, np.fromfile(f, dtype=ch_dtype, count=num_points)]]\n",
    "\n",
    "            assert num_points == len(ch_data), \"Points mismatch in buffer!\"\n",
    "\n",
    "            if use_segments:\n",
    "                y_data = {}\n",
    "                y_data['segment_index'] = segment_index\n",
    "                y_data['time_tag'] = time_tag\n",
    "                y_data['y_data'] = ch_data['data']\n",
    "                wf_dict[channel_string]['segment_data'].append(y_data)\n",
    "            else:\n",
    "                wf_dict[channel_string]['y_data'] = ch_data['data']\n",
    "\n",
    "            if include_time_vector:\n",
    "                #Build up the time vector\n",
    "                if wfx == 1:\n",
    "                    tvec = wf_header['x_increment'][0]*np.arange(wf_header['num_points'][0])+wf_header['x_origin']\n",
    "                    wf_dict[channel_string]['x_data'] = tvec\n",
    "\n",
    "                assert len(tvec) == len(ch_data), \"The jerk who programmed this almost certainly handled the buffers wrong!\"\n",
    "\n",
    "    return wf_dict"
   ]
  },
  {
   "cell_type": "code",
   "execution_count": 45,
   "metadata": {},
   "outputs": [],
   "source": [
    "fname = ('1901_BEL_data/scope_58.bin')\n",
    "test = read_agilent_binary(fname, use_segments=False, include_time_vector=False, include_datetime=False)"
   ]
  },
  {
   "cell_type": "code",
   "execution_count": 73,
   "metadata": {},
   "outputs": [
    {
     "data": {
      "text/plain": [
       "<matplotlib.legend.Legend at 0x7f8424952690>"
      ]
     },
     "execution_count": 73,
     "metadata": {},
     "output_type": "execute_result"
    },
    {
     "data": {
      "image/png": "[encoded data removed]",
      "text/plain": [
       "<Figure size 720x720 with 2 Axes>"
      ]
     },
     "metadata": {
      "needs_background": "light"
     },
     "output_type": "display_data"
    }
   ],
   "source": [
    "fig, [ax1,ax2] = plt.subplots(2, 1, figsize=(10, 10), sharex=True)\n",
    "time = np.linspace(0, 1,2000000)\n",
    "time = time-0.5\n",
    "ax1.plot(time,test['1']['y_data'], 'k',label = \"Recorded spike\")\n",
    "ax1.set_ylim([-0.8, 0.3])\n",
    "ax1.set_xlabel(\"Voltage [mV]\")\n",
    "\n",
    "ax2.set_xlim([0, 0.1])\n",
    "\n",
    "ax2.set_xlabel(\"Time [ms]\")\n",
    "ax2.plot(time,test['2']['y_data'], 'r', label = \"DN pulses\")\n",
    "\n",
    "\n",
    "fig.legend()\n",
    "#fig.savefig(\"test.svg\")\n",
    "#plt.plot(test['4']['y_data'])"
   ]
  },
  {
   "cell_type": "code",
   "execution_count": 48,
   "metadata": {},
   "outputs": [
    {
     "data": {
      "text/plain": [
       "{'1': {'num_points': 2000000,\n",
       "  'count': 1,\n",
       "  'x_display_range': 1.0,\n",
       "  'x_display_origin': -0.526,\n",
       "  'x_increment': 5e-07,\n",
       "  'x_origin': -0.5265623600346875,\n",
       "  'x_units': 2,\n",
       "  'y_units': 1,\n",
       "  'date_string': b'               ',\n",
       "  'time_string': b'               ',\n",
       "  'frame_string': b'MSO-X 6004A:MY61262155',\n",
       "  'waveform_string': b'1',\n",
       "  'y_data': array([ 0.0039749 , -0.00271967,  0.0039749 , ..., -0.00941423,\n",
       "         -0.00271967, -0.00271967], dtype=float32)},\n",
       " '2': {'num_points': 2000000,\n",
       "  'count': 1,\n",
       "  'x_display_range': 1.0,\n",
       "  'x_display_origin': -0.526,\n",
       "  'x_increment': 5e-07,\n",
       "  'x_origin': -0.5265623656709375,\n",
       "  'x_units': 2,\n",
       "  'y_units': 1,\n",
       "  'date_string': b'               ',\n",
       "  'time_string': b'               ',\n",
       "  'frame_string': b'MSO-X 6004A:MY61262155',\n",
       "  'waveform_string': b'2',\n",
       "  'y_data': array([-0.00726986, -0.00726986,  0.02620292, ..., -0.00726986,\n",
       "         -0.04074264,  0.02620292], dtype=float32)},\n",
       " '3': {'num_points': 2000000,\n",
       "  'count': 1,\n",
       "  'x_display_range': 1.0,\n",
       "  'x_display_origin': -0.526,\n",
       "  'x_increment': 5e-07,\n",
       "  'x_origin': -0.5265623600521875,\n",
       "  'x_units': 2,\n",
       "  'y_units': 1,\n",
       "  'date_string': b'               ',\n",
       "  'time_string': b'               ',\n",
       "  'frame_string': b'MSO-X 6004A:MY61262155',\n",
       "  'waveform_string': b'3',\n",
       "  'y_data': array([-0.01093102, -0.04440379, -0.01093102, ..., -0.01093102,\n",
       "         -0.01093102,  0.02254176], dtype=float32)}}"
      ]
     },
     "execution_count": 48,
     "metadata": {},
     "output_type": "execute_result"
    }
   ],
   "source": [
    "test\n"
   ]
  },
  {
   "cell_type": "code",
   "execution_count": 56,
   "metadata": {},
   "outputs": [],
   "source": []
  },
  {
   "cell_type": "code",
   "execution_count": 58,
   "metadata": {},
   "outputs": [
    {
     "data": {
      "text/plain": [
       "2000000"
      ]
     },
     "execution_count": 58,
     "metadata": {},
     "output_type": "execute_result"
    }
   ],
   "source": [
    "time.size\n"
   ]
  },
  {
   "cell_type": "code",
   "execution_count": null,
   "metadata": {},
   "outputs": [],
   "source": []
  }
 ],
 "metadata": {
  "kernelspec": {
   "display_name": "Python 3 (ipykernel)",
   "language": "python",
   "name": "python3"
  },
  "language_info": {
   "codemirror_mode": {
    "name": "ipython",
    "version": 3
   },
   "file_extension": ".py",
   "mimetype": "text/x-python",
   "name": "python",
   "nbconvert_exporter": "python",
   "pygments_lexer": "ipython3",
   "version": "3.7.6"
  }
 },
 "nbformat": 4,
 "nbformat_minor": 4
}
