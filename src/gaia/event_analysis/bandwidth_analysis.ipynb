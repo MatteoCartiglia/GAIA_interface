{
 "cells": [
  {
   "cell_type": "code",
   "execution_count": 1,
   "metadata": {},
   "outputs": [],
   "source": [
    "import numpy as np\n",
    "import os\n",
    "import pandas as pd\n",
    "import struct\n",
    "import matplotlib.pyplot as plt\n",
    "from utils.event2d import event2d as event2d\n",
    "from utils.helper import *\n",
    "\n",
    "plt.style.use(\"MC.mplstyle\")"
   ]
  },
  {
   "cell_type": "code",
   "execution_count": 11,
   "metadata": {},
   "outputs": [
    {
     "data": {
      "text/plain": [
       "166217.08113250657"
      ]
     },
     "execution_count": 11,
     "metadata": {},
     "output_type": "execute_result"
    }
   ],
   "source": [
    "fileName = \"../Recordings/3003_maxbandwidth.dat\"\n",
    "events = read_dat_file(fileName)\n",
    "ev = remove_ts_offset(events)\n",
    "len(events)\n",
    "get_event_rate(events)\n"
   ]
  },
  {
   "cell_type": "code",
   "execution_count": null,
   "metadata": {},
   "outputs": [],
   "source": []
  },
  {
   "cell_type": "code",
   "execution_count": 14,
   "metadata": {},
   "outputs": [
    {
     "data": {
      "text/plain": [
       "603595.7024536816"
      ]
     },
     "execution_count": 14,
     "metadata": {},
     "output_type": "execute_result"
    }
   ],
   "source": [
    "fileName = \"../Recordings/3003_bandwidth_2048blockread.dat\"\n",
    "events = read_dat_file(fileName)\n",
    "ev = remove_ts_offset(events)\n",
    "len(events)\n",
    "get_event_rate(events)"
   ]
  },
  {
   "cell_type": "code",
   "execution_count": 18,
   "metadata": {},
   "outputs": [
    {
     "data": {
      "text/plain": [
       "598547.7074596391"
      ]
     },
     "execution_count": 18,
     "metadata": {},
     "output_type": "execute_result"
    }
   ],
   "source": [
    "t1 = select_event_in_timewindow(events, t_start =0, t_stop=1, sampling_rate = 1e-5)\n",
    "\n",
    "(t1[-1].ts - t1[0].ts)*1e-5\n",
    "get_event_rate(t1)"
   ]
  },
  {
   "cell_type": "code",
   "execution_count": 24,
   "metadata": {},
   "outputs": [
    {
     "data": {
      "text/plain": [
       "580459.6896044507"
      ]
     },
     "execution_count": 24,
     "metadata": {},
     "output_type": "execute_result"
    }
   ],
   "source": [
    "t1 = select_event_in_timewindow(events, t_start =5, t_stop=6, sampling_rate = 1e-5)\n",
    "\n",
    "(t1[-1].ts - t1[0].ts)*1e-5\n",
    "get_event_rate(t1)"
   ]
  },
  {
   "cell_type": "code",
   "execution_count": 27,
   "metadata": {},
   "outputs": [
    {
     "data": {
      "text/plain": [
       "164388.96189224703"
      ]
     },
     "execution_count": 27,
     "metadata": {},
     "output_type": "execute_result"
    }
   ],
   "source": [
    "fileName = \"../Recordings/3004_bandrate_nodelay.dat\"\n",
    "events = read_dat_file(fileName)\n",
    "ev = remove_ts_offset(events)\n",
    "get_event_rate(events)\n"
   ]
  },
  {
   "cell_type": "code",
   "execution_count": 30,
   "metadata": {},
   "outputs": [
    {
     "data": {
      "text/plain": [
       "1764288.5551898764"
      ]
     },
     "execution_count": 30,
     "metadata": {},
     "output_type": "execute_result"
    }
   ],
   "source": [
    "fileName = \"../Recordings/3004_bandrate_nodelay_4096_3.dat\"\n",
    "events = read_dat_file(fileName)\n",
    "ev = remove_ts_offset(events)\n",
    "get_event_rate(events)\n"
   ]
  },
  {
   "cell_type": "code",
   "execution_count": 32,
   "metadata": {},
   "outputs": [],
   "source": [
    "fileName = \"../Recordings/3004_bandrate_nodelay_4096_5.dat\"\n",
    "events = read_dat_file(fileName)\n",
    "ev = remove_ts_offset(events)\n",
    "get_event_rate(events)\n"
   ]
  },
  {
   "cell_type": "code",
   "execution_count": null,
   "metadata": {},
   "outputs": [],
   "source": []
  }
 ],
 "metadata": {
  "interpreter": {
   "hash": "bfb8492357dac6c9fe251cf25b595009bb5bbb6af52654a3de5f8ec32dde1b47"
  },
  "kernelspec": {
   "display_name": "Python 3.10.4 ('gaia')",
   "language": "python",
   "name": "python3"
  },
  "language_info": {
   "codemirror_mode": {
    "name": "ipython",
    "version": 3
   },
   "file_extension": ".py",
   "mimetype": "text/x-python",
   "name": "python",
   "nbconvert_exporter": "python",
   "pygments_lexer": "ipython3",
   "version": "3.10.4"
  },
  "orig_nbformat": 4
 },
 "nbformat": 4,
 "nbformat_minor": 2
}
